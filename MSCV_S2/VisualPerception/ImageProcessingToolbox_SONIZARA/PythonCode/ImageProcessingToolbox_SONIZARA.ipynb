{
 "cells": [
  {
   "cell_type": "markdown",
   "metadata": {},
   "source": [
    "# IMAGE PROCESSING TOOLBOX \n"
   ]
  },
  {
   "cell_type": "markdown",
   "metadata": {},
   "source": [
    "Master in Computer Vision\n",
    "University of Burgundy \n",
    "Danie Jianah SONIZARA "
   ]
  },
  {
   "cell_type": "code",
   "execution_count": 18,
   "metadata": {
    "collapsed": true
   },
   "outputs": [],
   "source": [
    "import numpy as np\n",
    "import os\n",
    "import cv2\n",
    "\n",
    "import matplotlib.pyplot as plt\n",
    "import tkinter\n",
    "import tkinter.messagebox\n",
    "import tkinter.filedialog\n",
    "from tkinter.filedialog import *\n",
    "from tkinter import *\n",
    "from tkinter import Label,Tk\n",
    "from PIL import Image, ImageTk\n",
    "import glob\n",
    "%matplotlib inline"
   ]
  },
  {
   "cell_type": "markdown",
   "metadata": {},
   "source": [
    "##### 1. Load an Display "
   ]
  },
  {
   "cell_type": "code",
   "execution_count": 19,
   "metadata": {
    "collapsed": true
   },
   "outputs": [],
   "source": [
    "# Load an image \n",
    "def LoadImage():\n",
    "    filename = filedialog.askopenfilename()\n",
    "    img_color = cv2.imread(filename)\n",
    "   \n",
    "    # display the image with OpenCV imshow()\n",
    "    cv2.imshow('Original Image', img_color)\n",
    "    \n",
    "\n",
    "\n",
    "    # The OpenCV waitKey() function is a required keyboard binding \n",
    "    # function after imwshow()\n",
    "#     cv2.waitKey(0)\n",
    "\n",
    "#     # destroy all windows command\n",
    "#     cv2.destroyAllWindows()\n",
    "    global image\n",
    "    image = img_color\n",
    "    \n",
    "# Load a video\n",
    "def LoadVideo():\n",
    "    filename = filedialog.askopenfilename()\n",
    "    video = cv2.VideoCapture(filename)\n",
    "    while(video.isOpened()):\n",
    "        ret, frame = video.read()\n",
    "        cv2.imshow('Video',frame)\n",
    "        if cv2.waitKey(1) & 0xFF == ord('q'):\n",
    "            break\n",
    "            video.release()\n",
    "            cv2.destroyAllWindows()\n",
    "            \n",
    "# Camera Live \n",
    "def LoadCamera(mirror=True):\n",
    "    cam = cv2.VideoCapture(0)\n",
    "    while True:\n",
    "        ret_val, img = cam.read()\n",
    "        if mirror: \n",
    "            img = cv2.flip(img, 1)\n",
    "            cv2.imshow('my webcam', img)\n",
    "            if cv2.waitKey(1) == 27: \n",
    "                break  # esc to quit\n",
    "                cv2.destroyAllWindows()"
   ]
  },
  {
   "cell_type": "markdown",
   "metadata": {},
   "source": [
    "##### 2. Add noise to the original image "
   ]
  },
  {
   "cell_type": "code",
   "execution_count": 20,
   "metadata": {
    "collapsed": true
   },
   "outputs": [],
   "source": [
    "#  a. Add salt and pepper\n",
    "# Replaces random pixels with 0 or 1.\n",
    "def SaltPepperNoise():\n",
    "    row,col,ch = image.shape\n",
    "    s_vs_p = 0.5\n",
    "    amount = 0.004\n",
    "    out = image\n",
    "    # Salt mode\n",
    "    num_salt = np.ceil(amount * image.size * s_vs_p)\n",
    "    coords = [np.random.randint(0, i - 1, int(num_salt))\n",
    "              for i in image.shape]\n",
    "    out[coords] = 1\n",
    "    # Pepper mode\n",
    "    num_pepper = np.ceil(amount* image.size * (1. - s_vs_p))\n",
    "    coords = [np.random.randint(0, i - 1, int(num_pepper))\n",
    "              for i in image.shape]\n",
    "    out[coords] = 0\n",
    "    \n",
    "    cv2.imshow('Salt and Pepper noise', out)\n",
    "    cv2.waitKey(0)\n",
    "    cv2.destroyAllWindows()\n",
    "    \n",
    "def GaussianNoise():\n",
    "    row,col,ch= image.shape\n",
    "    mean = 0\n",
    "    #var = 0.1\n",
    "    #sigma = var**0.5\n",
    "    gauss = np.random.normal(mean,1,(row,col,ch))\n",
    "    gauss = gauss.reshape(row,col,ch)\n",
    "    noisy = image + gauss\n",
    "    \n",
    "    cv2.imshow('Gaussian noise  ', noisy)\n",
    "    cv2.waitKey(0)\n",
    "    cv2.destroyAllWindows()\n",
    "    \n",
    "def PoissonNoise():\n",
    "    vals = len(np.unique(image))\n",
    "    vals = 2 ** np.ceil(np.log2(vals))\n",
    "    noisy = np.random.poisson(image * vals) / float(vals)\n",
    "    \n",
    "    cv2.imshow('Poisson noise  ', noisy)\n",
    "    cv2.waitKey(0)\n",
    "    cv2.destroyAllWindows()\n",
    "        \n",
    "def SpeckleNoise():\n",
    "    row,col,ch = image.shape\n",
    "    gauss = np.random.randn(row,col,ch)\n",
    "    gauss = gauss.reshape(row,col,ch)        \n",
    "    noisy =  image * gauss\n",
    "    \n",
    "    cv2.imshow('Speckle noise  ', noisy)\n",
    "    cv2.waitKey(0)\n",
    "    cv2.destroyAllWindows()\n",
    "    \n"
   ]
  },
  {
   "cell_type": "markdown",
   "metadata": {},
   "source": [
    "##### b. Show a logo at a user-defined RegionOf Interest (ROI) of the input "
   ]
  },
  {
   "cell_type": "code",
   "execution_count": null,
   "metadata": {},
   "outputs": [],
   "source": [
    "def ChooseLogo():\n",
    "    filename = filedialog.askopenfilename()\n",
    "    img2 = cv2.imread(filename)\n",
    "    cv2.imshow('logo',img2)\n",
    "    global logo\n",
    "    logo = img2\n",
    "def SelectROI():\n",
    "#     # I want to put logo on top-left corner, So I create a ROI\n",
    "#     r = cv2.selectROI(image)\n",
    "#     roi = image[int(r[1]):int(r[1]+r[3]), int(r[0]):int(r[0]+r[2])]\n",
    "#     cv2.imshow('Select ROI',roi) # Display cropped image\n",
    "\n",
    "#     thumbnail = cv2.CreateMat(roi.rows, roi.cols, cv.CV_8UC3)\n",
    "    # I want to put logo on top-left corner, So I create a ROI\n",
    "    rows,cols,channels = logo.shape\n",
    "    roi = image[0:rows, 0:cols ]\n",
    "    # Now create a mask of logo and create its inverse mask also\n",
    "    img2gray = cv2.cvtColor(logo,cv2.COLOR_BGR2GRAY)\n",
    "    ret, mask = cv2.threshold(img2gray, 10, 255, cv2.THRESH_BINARY)\n",
    "    mask_inv = cv2.bitwise_not(mask)\n",
    "    # Now black-out the area of logo in ROI\n",
    "    img1_bg = cv2.bitwise_and(roi,roi,mask = mask_inv)\n",
    "    # Take only region of logo from logo image.\n",
    "    img2_fg = cv2.bitwise_and(logo,logo,mask = mask)\n",
    "    # Put logo in ROI and modify the main image\n",
    "    dst = cv2.add(img1_bg,img2_fg)\n",
    "    image[0:rows, 0:cols ] = dst\n",
    "    cv2.imshow('result',image)\n",
    "    cv2.waitKey(0)\n",
    "    cv2.destroyAllWindows()\n",
    "    \n",
    "    \n",
    "  "
   ]
  },
  {
   "cell_type": "markdown",
   "metadata": {},
   "source": [
    "#### c. Convert to a new colorspace "
   ]
  },
  {
   "cell_type": "code",
   "execution_count": null,
   "metadata": {
    "collapsed": true
   },
   "outputs": [],
   "source": [
    "# RGB to gray\n",
    "def RGBtoGray():\n",
    "    grey = cv2.cvtColor( image, cv2.COLOR_RGB2GRAY )\n",
    "    cv2.imshow(\"RGB to Gray image\", grey)\n",
    "    global img_grey\n",
    "    img_grey = grey \n",
    "\n",
    "# RGB to YCR\n",
    "def RGBtoYCRCB():\n",
    "    YCRCB = cv2.cvtColor(image, cv2.COLOR_BGR2YCR_CB)\n",
    "    cv2.imshow(\"RGB to YCRCB image\", YCRCB)"
   ]
  },
  {
   "cell_type": "markdown",
   "metadata": {},
   "source": [
    "#### d. Compute the histogram of the image "
   ]
  },
  {
   "cell_type": "code",
   "execution_count": null,
   "metadata": {
    "collapsed": true
   },
   "outputs": [],
   "source": [
    "def ComputeHistogram():\n",
    "    hist = cv2.calcHist([image],[0],None,[256],[0,256])\n",
    "    cv2.imshow(\"Histogram of the image\", hist)\n",
    "#     # Another way to compute histogram using plot\n",
    "#     plt.hist(image.ravel(),256,[0,256])\n",
    "#     plt.title('Histogram ofthe image')\n",
    "#     plt.plot()\n",
    "#     plt.show()\n",
    "    plt.plot()\n",
    "    plt.xlim([0,256])\n",
    "    plt.show()\n",
    "\n",
    "    while True:\n",
    "        k = cv2.waitKey(0) & 0xFF     \n",
    "        if k == 27: break             # ESC key to exit \n",
    "        cv2.destroyAllWindows()"
   ]
  },
  {
   "cell_type": "markdown",
   "metadata": {},
   "source": [
    "#### f. Morphological operators"
   ]
  },
  {
   "cell_type": "code",
   "execution_count": null,
   "metadata": {
    "collapsed": true
   },
   "outputs": [],
   "source": [
    "kernel = np.ones((5,5),np.uint8)\n",
    "global kernel\n",
    "# Dilate\n",
    "def Dilate():\n",
    "    dilation = cv2.dilate(image,kernel,iterations = 1)\n",
    "    cv2.imshow(\"Dilation\", dilation)\n",
    "# Erode \n",
    "def Erode():\n",
    "    erosion = cv2.erode(image,kernel,iterations = 1)\n",
    "    cv2.imshow(\"Erosion\", erosion)\n",
    "# Open \n",
    "def Open():\n",
    "    opening = cv2.morphologyEx(image, cv2.MORPH_OPEN, kernel)\n",
    "    cv2.imshow(\"Opening\", opening)\n",
    "# Close\n",
    "def Close():\n",
    "    closing = cv2.morphologyEx(image, cv2.MORPH_CLOSE, kernel)\n",
    "    cv2.imshow(\"Close\", closing)\n"
   ]
  },
  {
   "cell_type": "markdown",
   "metadata": {},
   "source": [
    "#### g. Blur"
   ]
  },
  {
   "cell_type": "code",
   "execution_count": null,
   "metadata": {
    "collapsed": true
   },
   "outputs": [],
   "source": [
    "# Averaging\n",
    "def Averaging():\n",
    "    averaging = cv2.blur(image,(5,5))\n",
    "    cv2.imshow(\"Averaging Blur\", averaging)\n",
    "# Gaussian Blurring\n",
    "def GaussianBlur():\n",
    "    gaussianBlur = cv2.GaussianBlur(image,(5,5),0)\n",
    "    cv2.imshow(\"Gaussian Blurring\", gaussianBlur)\n",
    "# Median Blurring\n",
    "def MedianBlur():\n",
    "    median = cv2.medianBlur(image,5)\n",
    "    cv2.imshow(\"Median Blurring\", median)"
   ]
  },
  {
   "cell_type": "markdown",
   "metadata": {},
   "source": [
    "#### h.i. Edge detector operators"
   ]
  },
  {
   "cell_type": "code",
   "execution_count": null,
   "metadata": {
    "collapsed": true
   },
   "outputs": [],
   "source": [
    "# Sobel operator\n",
    "\n",
    "def SobelOp():\n",
    "    sobelx = cv2.Sobel(image,cv2.CV_64F,1,0,ksize=5)\n",
    "    cv2.imshow(\"Sobel operator\", sobelx)\n",
    "# Laplacian operator\n",
    "def LaplacianOp():\n",
    "    laplacian = cv2.Laplacian(image,cv2.CV_64F)\n",
    "    cv2.imshow(\"Laplacian operator\", laplacian)\n",
    "# Canny edge detction\n",
    "def Canny():\n",
    "    canny = cv2.Canny(image,100,200)\n",
    "    cv2.imshow(\"Canny edge detection\", canny)"
   ]
  },
  {
   "cell_type": "markdown",
   "metadata": {},
   "source": [
    "#### j. Extract lines and circles using Hough transform."
   ]
  },
  {
   "cell_type": "code",
   "execution_count": null,
   "metadata": {
    "collapsed": true
   },
   "outputs": [],
   "source": [
    "# Extract lines \n",
    "def HoughLine():\n",
    "    img= image\n",
    "    gray = cv2.cvtColor(img,cv2.COLOR_BGR2GRAY)\n",
    "\n",
    "    edges = cv2.Canny(gray,100,200,apertureSize = 3)\n",
    "\n",
    "    minLineLength = 100\n",
    "    maxLineGap = 10\n",
    "    lines = cv2.HoughLinesP(edges,1,np.pi/180,100,minLineLength,maxLineGap)\n",
    "    for x in range(0, len(lines)):\n",
    "        for x1,y1,x2,y2 in lines[x]:\n",
    "            img= cv2.line(img,(x1,y1),(x2,y2),(0,255,0),2)\n",
    "        \n",
    "    cv2.imshow(\"Extracting Lines using Hough Transform \", img)\n",
    "    cv2.waitKey(0)\n",
    "\n",
    "    \n",
    "\n",
    "        #cv2.imwrite('houghlines3.jpg',image)\n",
    "            \n",
    "# Extract circles using Hough transform\n",
    "def HoughCircle():\n",
    "    img = cv2.medianBlur(image,5)\n",
    "    cimg = cv2.cvtColor(img,cv2.COLOR_GRAY2BGR)\n",
    "\n",
    "    circles = cv2.HoughCircles(img,cv2.HOUGH_GRADIENT,1,20,\n",
    "                            param1=50,param2=30,minRadius=0,maxRadius=0)\n",
    "\n",
    "    circles = np.uint16(np.around(circles))\n",
    "    for i in circles[0,:]:\n",
    "        # draw the outer circle\n",
    "        cv2.circle(cimg,(i[0],i[1]),i[2],(0,255,0),2)\n",
    "        # draw the center of the circle\n",
    "        cv2.circle(cimg,(i[0],i[1]),2,(0,0,255),3)\n",
    "\n",
    "    cv2.imshow('detected circles',cimg)\n",
    "    cv2.waitKey(0)\n",
    "    \n",
    "    "
   ]
  },
  {
   "cell_type": "markdown",
   "metadata": {},
   "source": [
    "#### k.Find contours of connected objects and draw them"
   ]
  },
  {
   "cell_type": "code",
   "execution_count": null,
   "metadata": {
    "collapsed": true
   },
   "outputs": [],
   "source": [
    "def FindDrawContour ():\n",
    "    img = image\n",
    "    imgray = cv2.cvtColor(img,cv2.COLOR_BGR2GRAY)\n",
    "    ret,thresh = cv2.threshold(imgray,127,255,0)\n",
    "    im2, contours, hierarchy = cv2.findContours(thresh,cv2.RETR_TREE,cv2.CHAIN_APPROX_SIMPLE)\n",
    "    # Draw the contours\n",
    "    im = cv2.drawContours(img, contours, -1, (0,255,0), 3)\n",
    "    \n",
    "    cv2.imshow('Find and Draw Contour on image',im)\n",
    "    cv2.waitKey(0)\n",
    "    "
   ]
  },
  {
   "cell_type": "markdown",
   "metadata": {},
   "source": [
    "#### l. Shape descriptors (bounding box, minimum en-closing circle)"
   ]
  },
  {
   "cell_type": "code",
   "execution_count": null,
   "metadata": {
    "collapsed": true
   },
   "outputs": [],
   "source": [
    "# Contour Area \n",
    "def ContourArea():\n",
    "    grey = cv2.cvtColor(image, cv2.COLOR_RGB2GRAY) \n",
    "    ret,thresh = cv2.threshold(grey,127,255,0)\n",
    "    _, contours,hierarchy = cv2.findContours(thresh, 1, 2)\n",
    "    cnt = contours[0]\n",
    "    M = cv2.moments(cnt)\n",
    "    \n",
    "    area = cv2.contourArea(cnt) \n",
    "    im = cv2.drawContours(img, area, -1, (0,255,0), 3)\n",
    "    cv2.imshow('Find Contour Area of an image',im)\n",
    "    cv2.waitKey(0)\n",
    "# Contour perimeter \n",
    "def ContourPerimeter():\n",
    "    grey = cv2.cvtColor(image, cv2.COLOR_RGB2GRAY) \n",
    "    ret,thresh = cv2.threshold(image,127,255,0)\n",
    "    _, contours,hierarchy = cv2.findContours(thresh, 1, 2)\n",
    "    cnt = contours[0]\n",
    "    M = cv2.moments(cnt)\n",
    "    \n",
    "    perimeter = cv2.arcLength(cnt,True)\n",
    "    cv2.imshow('Find and Draw Contour perimeter on image',perimeter)\n",
    "    cv2.waitKey(0)\n",
    "\n",
    "# Contour Approximation\n",
    "def ContourApproximation():\n",
    "    grey = cv2.cvtColor(image, cv2.COLOR_RGB2GRAY) \n",
    "    ret,thresh = cv2.threshold(grey ,127,255,0)\n",
    "    _, contours,hierarchy = cv2.findContours(thresh, 1, 2)\n",
    "    cnt = contours[0]\n",
    "    M = cv2.moments(cnt)\n",
    "    \n",
    "    epsilon = 0.1*cv2.arcLength(cnt,True)\n",
    "    approx = cv2.approxPolyDP(cnt,epsilon,True)\n",
    "    cv2.imshow('Find and Draw Contour Approximation of an image',approx)\n",
    "    cv2.waitKey(0)\n",
    "                 \n",
    "#  Straight Bounding Rectangle\n",
    "def BoundingRectangle():\n",
    "    grey = cv2.cvtColor(image, cv2.COLOR_RGB2GRAY) \n",
    "    ret,thresh = cv2.threshold(grey ,127,255,0)\n",
    "    _, contours,hierarchy = cv2.findContours(thresh, 1, 2)\n",
    "    cnt = contours[0]\n",
    "    M = cv2.moments(cnt)\n",
    "                                 \n",
    "    x,y,w,h = cv2.boundingRect(cnt)\n",
    "    cv2.rectangle(image,(x,y),(x+w,y+h),(0,255,0),2)\n",
    "    cv2.imshow('Find and Draw Bounding Rectangle an image',grey )\n",
    "    cv2.waitKey(0)\n",
    "                                 \n",
    "# Applying minimum en-closing circle\n",
    "def MinEnclosingCircle():\n",
    "    grey = cv2.cvtColor(image, cv2.COLOR_RGB2GRAY) \n",
    "    ret,thresh = cv2.threshold(grey ,127,255,0)\n",
    "    _, contours,hierarchy = cv2.findContours(thresh, 1, 2)\n",
    "    cnt = contours[0]\n",
    "    M = cv2.moments(cnt)\n",
    "                                 \n",
    "    (x,y),radius = cv2.minEnclosingCircle(cnt)\n",
    "    center = (int(x),int(y))\n",
    "    radius = int(radius)\n",
    "    minCircle = cv2.circle(img,center,radius,(0,255,0),2)\n",
    "    cv2.imshow('Find and Draw minimum en-closing circle an image',minCircle )\n",
    "    cv2.waitKey(0)"
   ]
  },
  {
   "cell_type": "markdown",
   "metadata": {},
   "source": [
    "#### m. Harris Corner extraction "
   ]
  },
  {
   "cell_type": "code",
   "execution_count": null,
   "metadata": {
    "collapsed": true
   },
   "outputs": [],
   "source": [
    "# Extract corners using Harris and apply non-maximal suppression.\n",
    "def HarrisCorner ():\n",
    "    img = image;\n",
    "    gray = cv2.cvtColor(img,cv2.COLOR_BGR2GRAY)\n",
    "\n",
    "    gray = np.float32(gray)\n",
    "    dst = cv2.cornerHarris(gray,2,3,0.04)\n",
    "\n",
    "    #result is dilated for marking the corners, not important\n",
    "    dst = cv2.dilate(dst,None)\n",
    "\n",
    "    # Threshold for an optimal value, it may vary depending on the image.\n",
    "    img[dst>0.01*dst.max()]=[0,0,255]\n",
    "\n",
    "    cv2.imshow('Harris Corner Detection',img)\n",
    "    \n",
    "    if cv2.waitKey(0) & 0xff == 27:\n",
    "        cv2.destroyAllWindows()\n"
   ]
  },
  {
   "cell_type": "markdown",
   "metadata": {},
   "source": [
    "#### n. Features  Extraction  "
   ]
  },
  {
   "cell_type": "code",
   "execution_count": null,
   "metadata": {
    "collapsed": true
   },
   "outputs": [],
   "source": [
    "# Extract FAST \n",
    "def FASTextract():\n",
    "    img = cv2.cvtColor(image, cv2.COLOR_BGR2GRAY)\n",
    "    # Initiate FAST object with default values\n",
    "    fast = cv2.FastFeatureDetector()\n",
    "    # find and draw the keypoints\n",
    "    kp = fast.detect(img,None)\n",
    "    img2 = cv2.drawKeypoints(img, kp, color=(255,0,0))\n",
    "    # Print all default params\n",
    "    print (\"Threshold: \", fast.getInt('threshold'))\n",
    "    print (\"nonmaxSuppression: \", fast.getBool('nonmaxSuppression'))\n",
    "    print (\"neighborhood: \", fast.getInt('type'))\n",
    "    print (\"Total Keypoints with nonmaxSuppression: \", len(kp))\n",
    "    cv2.imshow('FAST Extraction wihnon maximal Suppression',img2)\n",
    "\n",
    "    # Disable nonmaxSuppression\n",
    "    fast.setBool('nonmaxSuppression',0)\n",
    "    kp1 = fast.detect(img,None)\n",
    "\n",
    "    print (\"Total Keypoints without nonmaxSuppression: \", len(kp1))\n",
    "\n",
    "    img3 = cv2.drawKeypoints(img, kp1, color=(255,0,0))\n",
    "    cv2.imshow('FAST Extraction without non maximal Suppression',img3)\n",
    "    \n",
    "    cv2.waitKey(0)\n",
    "    cv2.destroyAllWindows()\n",
    "    \n",
    "\n",
    " # Extract SURF\n",
    "def SURFextract(): \n",
    "    img = cv2.cvtColor(image, cv2.COLOR_BGR2GRAY)\n",
    "    surf = cv2.SURF(400)\n",
    "    # Find keypoints and descriptors directly\n",
    "    kp, des = surf.detectAndCompute(img,None)\n",
    "    # Check present Hessian threshold\n",
    "    print (surf.hessianThreshold)\n",
    "    # We set it to some 50000. Remember, it is just for representing in picture.\n",
    "    # In actual cases, it is better to have a value 300-500\n",
    "    surf.hessianThreshold = 50000\n",
    "    # Again compute keypoints and check its number.\n",
    "    kp, des = surf.detectAndCompute(img,None)\n",
    "    img2 = cv2.drawKeypoints(img,kp,None,(255,0,0),4)\n",
    "    cv2.imshow('SURF Extraction wihnon maximal Suppression',img2)\n",
    "    cv2.waitKey(0)\n",
    "    cv2.destroyAllWindows()\n",
    "    \n",
    "# Extract SIFT \n",
    "def SIFTextract():\n",
    "    gray= cv2.cvtColor(image,cv2.COLOR_BGR2GRAY)\n",
    "    sift = cv2.xfeatures2d.SIFT_create()\n",
    "    kp = sift.detect(gray,None)\n",
    "    img=cv2.drawKeypoints(gray,kp)\n",
    "    cv2.imshow('SIFT Extraction wihnon maximal Suppression',img)\n",
    "    cv2.waitKey(0)\n",
    "    cv2.destroyAllWindows()"
   ]
  },
  {
   "cell_type": "markdown",
   "metadata": {},
   "source": [
    "### GUI"
   ]
  },
  {
   "cell_type": "code",
   "execution_count": null,
   "metadata": {
    "collapsed": true
   },
   "outputs": [],
   "source": []
  },
  {
   "cell_type": "code",
   "execution_count": null,
   "metadata": {},
   "outputs": [],
   "source": [
    "# Main window\n",
    "MyToolboxWindow = Tk()\n",
    "MyToolboxWindow.title(\"Image Processing ToolBox\")\n",
    "\n",
    "# Create a menu toolbar\n",
    "menubar = Menu(MyToolboxWindow)\n",
    "\n",
    "# Sow the menu toolbar\n",
    "MyToolboxWindow.config(menu=menubar)\n",
    "\n",
    "# *********************************************\n",
    "# File command \n",
    "fileMenu = Menu(menubar,tearoff=0)\n",
    "menubar.add_cascade(label=\"File\", menu=fileMenu)\n",
    "\n",
    "# Load \n",
    "LoadMenu = Menu(fileMenu,tearoff=0)\n",
    "fileMenu.add_cascade(label=\"Load\", menu=LoadMenu)\n",
    "# Load image \n",
    "LoadMenu.add_command(label=\"Image\", command=LoadImage)\n",
    "# Load Video\n",
    "LoadMenu.add_command(label=\"Video\", command=LoadVideo)\n",
    "# My webcam camera live Video\n",
    "LoadMenu.add_command(label=\"Webcam/Camera\", command=LoadCamera)\n",
    "\n",
    "\n",
    "# Quit \n",
    "fileMenu.add_command(label=\"Quit\",command=MyToolboxWindow.destroy)\n",
    "\n",
    "# **********************************************\n",
    "# Adding logo\n",
    "LogoMenu = Menu(menubar,tearoff=0)\n",
    "menubar.add_cascade(label=\"ROI\", menu=LogoMenu )\n",
    "# ChooseLogo\n",
    "LogoMenu.add_command(label=\"Choose Logo\",command=ChooseLogo)\n",
    "# Select ROI and Display ROI\n",
    "LogoMenu.add_command(label=\"Add logo\",command=SelectROI)\n",
    "# **********************************************\n",
    "# Noise\n",
    "NoiseMenu = Menu(menubar,tearoff=0)\n",
    "menubar.add_cascade(label=\"Noise\", menu=NoiseMenu)\n",
    "# Salt and pepper noise\n",
    "NoiseMenu.add_command(label=\"Salt&Pepper\",command=SaltPepperNoise)\n",
    "# Gaussian noise\n",
    "NoiseMenu.add_command(label=\"Gaussian\",command=GaussianNoise)\n",
    "# Poisson noise \n",
    "NoiseMenu.add_command(label=\"Poisson\",command=PoissonNoise)\n",
    "# Speckle noise\n",
    "NoiseMenu.add_command(label=\"Speckle\",command=SpeckleNoise)\n",
    "\n",
    "# **********************************************\n",
    "# Changing colorspace \n",
    "ColorspaceMenu = Menu(menubar,tearoff=0)\n",
    "menubar.add_cascade(label=\"Colorspace\", menu=ColorspaceMenu)\n",
    "# RGB to Gray\n",
    "ColorspaceMenu.add_command(label=\"RGBtoGray\",command=RGBtoGray)\n",
    "# RGB to YCRCB\n",
    "ColorspaceMenu.add_command(label=\"RGBtoYCRCB\",command=RGBtoYCRCB)\n",
    "\n",
    "# **********************************************\n",
    "# Histogram\n",
    "HistogramMenu = Menu(menubar,tearoff=0)\n",
    "menubar.add_cascade(label=\" Histogram\", menu=HistogramMenu)\n",
    "# Compute Histogram\n",
    "HistogramMenu.add_command(label=\"Compute Histogram\",command=ComputeHistogram)\n",
    "# Histogram Equalization \n",
    "HistogramMenu.add_command(label=\"Histogram Equalization\",command=ComputeHistogram)\n",
    "\n",
    "# **********************************************\n",
    "# Morphological operators\n",
    "Morphological = Menu(menubar,tearoff=0)\n",
    "menubar.add_cascade(label=\"Morphological\", menu=Morphological)\n",
    "# Dilate\n",
    "Morphological.add_command(label=\"Dilate\",command=Dilate)\n",
    "# Erode \n",
    "Morphological.add_command(label=\"Erode\",command=Erode)\n",
    "# Open \n",
    "Morphological.add_command(label=\"Open\",command=Open)\n",
    "# Close\n",
    "Morphological.add_command(label=\"Close\",command=Close)\n",
    "\n",
    "# **********************************************\n",
    "# Bluring\n",
    "Blur = Menu(menubar,tearoff=0)\n",
    "menubar.add_cascade(label=\"Blur\", menu=Blur )\n",
    "# Averaging\n",
    "Blur.add_command(label=\"Averaging\",command=Averaging)\n",
    "# Gaussian Blurring \n",
    "Blur.add_command(label=\"Gaussian Blurring\",command=GaussianBlur)\n",
    "# Median Blurring\n",
    "Blur.add_command(label=\"Median Blurring\",command=MedianBlur)\n",
    "\n",
    "# **********************************************\n",
    "# Edge detectors \n",
    "Edges= Menu(menubar,tearoff=0)\n",
    "menubar.add_cascade(label=\"Edge\", menu=Edges )\n",
    "# Sobel operator\n",
    "Edges.add_command(label=\"Sobel operator\",command=SobelOp)\n",
    "# Laplacian operator\n",
    "Edges.add_command(label=\"Laplacian operator\",command=LaplacianOp)\n",
    "# Canny edge detction\n",
    "Edges.add_command(label=\"Canny edge detction\",command=Canny)\n",
    "\n",
    "# **********************************************\n",
    "# Hough transform\n",
    "Hough= Menu(menubar,tearoff=0)\n",
    "menubar.add_cascade(label=\"Hough Transform \", menu=Hough)\n",
    "# Lines Extraction\n",
    "Hough.add_command(label=\"Line extraction using Hough Transform\",command=HoughLine)\n",
    "# Circles Extraction \n",
    "Hough.add_command(label=\"Circle extraction using Hough Transform\",command=HoughCircle)\n",
    "# **********************************************\n",
    "# Shape descriptors\n",
    "ShapeDescriptors= Menu(menubar,tearoff=0)\n",
    "menubar.add_cascade(label=\"Shape Descriptors \", menu=ShapeDescriptors)\n",
    "# Find contours of connected objects and draw them\n",
    "ShapeDescriptors.add_command(label=\"Connected object Contours\",command=FindDrawContour)\n",
    "# Contour Area\n",
    "ShapeDescriptors.add_command(label=\"Contour Area \",command=ContourArea)\n",
    "# Contour Perimeter\n",
    "ShapeDescriptors.add_command(label=\"Contour perimeter\",command=ContourPerimeter)\n",
    "# Contour Approximation\n",
    "ShapeDescriptors.add_command(label=\"Contour Approximation \",command=ContourApproximation)\n",
    "# BoundingRectangle\n",
    "ShapeDescriptors.add_command(label=\"Bounding Rectangle\",command=BoundingRectangle)\n",
    "# minimum en-closing circle\n",
    "ShapeDescriptors.add_command(label=\"Minimum en-closing circle \",command=MinEnclosingCircle)\n",
    "\n",
    "# **********************************************\n",
    "# Corner detection\n",
    "Features = Menu(menubar,tearoff=0)\n",
    "menubar.add_cascade(label=\"Features  \", menu=Features)\n",
    "# Extract corners using Harris and apply non-maximal suppression.\n",
    "Features.add_command(label=\"Harris Cornner detection \",command=HarrisCorner )\n",
    "# Extract FAST\n",
    "Features.add_command(label=\"FAST Extraction \",command= FASTextract )\n",
    "# Extract SURF.\n",
    "Features.add_command(label=\"SURF Extraction \",command= SURFextract )\n",
    "# Extract SIFT.\n",
    "Features.add_command(label=\"SIFT Extraction \",command= SIFTextract )\n",
    "# **********************************************\n",
    "# Feature matching \n",
    "Matching = Menu(menubar,tearoff=0)\n",
    "menubar.add_cascade(label=\"Matching \", menu=Matching)\n",
    "\n",
    "# **********************************************\n",
    "# Epipolar geometry\n",
    "EpipolarGeometry = Menu(menubar,tearoff=0)\n",
    "menubar.add_cascade(label=\"Epipolar Geometry  \", menu=EpipolarGeometry)\n",
    "# **********************************************\n",
    "# Face Detection\n",
    "FaceDetection = Menu(menubar,tearoff=0)\n",
    "menubar.add_cascade(label=\"Face Detection \", menu=FaceDetection)\n",
    "\n",
    "MyToolboxWindow.mainloop()"
   ]
  },
  {
   "cell_type": "code",
   "execution_count": null,
   "metadata": {
    "collapsed": true
   },
   "outputs": [],
   "source": [
    "# Face Detection\n",
    "# Using  Deep Learning\n",
    "# Using Cascading classifiers\n",
    "\n",
    "\n"
   ]
  },
  {
   "cell_type": "code",
   "execution_count": null,
   "metadata": {
    "collapsed": true
   },
   "outputs": [],
   "source": []
  },
  {
   "cell_type": "code",
   "execution_count": null,
   "metadata": {
    "collapsed": true
   },
   "outputs": [],
   "source": []
  },
  {
   "cell_type": "code",
   "execution_count": null,
   "metadata": {
    "collapsed": true
   },
   "outputs": [],
   "source": []
  }
 ],
 "metadata": {
  "kernelspec": {
   "display_name": "Python 3",
   "language": "python",
   "name": "python3"
  },
  "language_info": {
   "codemirror_mode": {
    "name": "ipython",
    "version": 3
   },
   "file_extension": ".py",
   "mimetype": "text/x-python",
   "name": "python",
   "nbconvert_exporter": "python",
   "pygments_lexer": "ipython3",
   "version": "3.6.3"
  }
 },
 "nbformat": 4,
 "nbformat_minor": 2
}
